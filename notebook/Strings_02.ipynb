{
 "cells": [
  {
   "cell_type": "code",
   "execution_count": 2,
   "id": "1e6c55e0",
   "metadata": {},
   "outputs": [
    {
     "name": "stdout",
     "output_type": "stream",
     "text": [
      "Let's Code\n"
     ]
    }
   ],
   "source": [
    "palavra1 = \"Let's\"\n",
    "palavra2 = \" Code\"\n",
    "palavra3 = palavra1 + palavra2\n",
    "print(palavra3)"
   ]
  },
  {
   "cell_type": "code",
   "execution_count": 3,
   "id": "687976c1",
   "metadata": {},
   "outputs": [
    {
     "name": "stdout",
     "output_type": "stream",
     "text": [
      "umaumauma\n"
     ]
    }
   ],
   "source": [
    "palavra = 'uma'\n",
    "trespalavras = 3*palavra\n",
    "print(trespalavras)"
   ]
  },
  {
   "cell_type": "code",
   "execution_count": 4,
   "id": "d533383d",
   "metadata": {},
   "outputs": [
    {
     "name": "stdout",
     "output_type": "stream",
     "text": [
      "O produto chocolate custa 4.5.\n"
     ]
    }
   ],
   "source": [
    "prod = 'chocolate'\n",
    "preco = 4.50\n",
    "print('O produto {} custa {}.'.format(prod, preco))"
   ]
  },
  {
   "cell_type": "code",
   "execution_count": 6,
   "id": "1f6a2908",
   "metadata": {},
   "outputs": [
    {
     "name": "stdout",
     "output_type": "stream",
     "text": [
      "O litro de gasolina custa 6.00\n"
     ]
    }
   ],
   "source": [
    "stringoriginal = 'O litro de gasolina custa {:.2f}'\n",
    "preco = 5.99999999\n",
    "stringcompleta = stringoriginal.format(preco)\n",
    "print(stringcompleta)"
   ]
  },
  {
   "cell_type": "code",
   "execution_count": 7,
   "id": "aed3a312",
   "metadata": {},
   "outputs": [
    {
     "name": "stdout",
     "output_type": "stream",
     "text": [
      "c, b and a\n"
     ]
    }
   ],
   "source": [
    "print('{2}, {1} and {0}'.format('a','b','c'))"
   ]
  },
  {
   "cell_type": "code",
   "execution_count": 9,
   "id": "f390bfe3",
   "metadata": {},
   "outputs": [
    {
     "name": "stdout",
     "output_type": "stream",
     "text": [
      "abracadabra\n"
     ]
    }
   ],
   "source": [
    "print('{0}{1}{0}'.format('abra','cad'))"
   ]
  },
  {
   "cell_type": "code",
   "execution_count": 11,
   "id": "9ab539bb",
   "metadata": {},
   "outputs": [
    {
     "name": "stdout",
     "output_type": "stream",
     "text": [
      "7/07/2021\n"
     ]
    }
   ],
   "source": [
    "dia = '7'\n",
    "mes = '07'\n",
    "ano = '2021'\n",
    "data1 = '{}/{}/{}'.format(dia, mes, ano)\n",
    "print(data1)"
   ]
  },
  {
   "cell_type": "code",
   "execution_count": 15,
   "id": "a7ce8090",
   "metadata": {},
   "outputs": [
    {
     "name": "stdout",
     "output_type": "stream",
     "text": [
      "Pietro é professor da Let's Code\n"
     ]
    }
   ],
   "source": [
    "nome = \"Pietro\"\n",
    "profissao = \"professor\"\n",
    "escola = \"Let's Code\"\n",
    "print(f\"{nome} é {profissao} da {escola}\")"
   ]
  }
 ],
 "metadata": {
  "kernelspec": {
   "display_name": "Python 3 (ipykernel)",
   "language": "python",
   "name": "python3"
  },
  "language_info": {
   "codemirror_mode": {
    "name": "ipython",
    "version": 3
   },
   "file_extension": ".py",
   "mimetype": "text/x-python",
   "name": "python",
   "nbconvert_exporter": "python",
   "pygments_lexer": "ipython3",
   "version": "3.8.10"
  }
 },
 "nbformat": 4,
 "nbformat_minor": 5
}
