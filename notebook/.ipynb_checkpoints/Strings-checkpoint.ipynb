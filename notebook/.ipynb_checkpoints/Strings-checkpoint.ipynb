{
 "cells": [
  {
   "cell_type": "code",
   "execution_count": 1,
   "id": "0362539b",
   "metadata": {},
   "outputs": [],
   "source": [
    "frase = 'uma FRASE'"
   ]
  },
  {
   "cell_type": "code",
   "execution_count": 2,
   "id": "63aabefc",
   "metadata": {},
   "outputs": [
    {
     "name": "stdout",
     "output_type": "stream",
     "text": [
      "u\n",
      "m\n",
      "a\n"
     ]
    }
   ],
   "source": [
    "print(frase[0])\n",
    "print(frase[1])\n",
    "print(frase[2])"
   ]
  },
  {
   "cell_type": "code",
   "execution_count": 3,
   "id": "f2e8bc5c",
   "metadata": {},
   "outputs": [
    {
     "name": "stdout",
     "output_type": "stream",
     "text": [
      "A frase possui 9 caracteres\n"
     ]
    }
   ],
   "source": [
    "tamanho = len(frase)\n",
    "print(\"A frase possui\", tamanho, \"caracteres\")"
   ]
  },
  {
   "cell_type": "code",
   "execution_count": 4,
   "id": "22dcbf1e",
   "metadata": {},
   "outputs": [
    {
     "name": "stdout",
     "output_type": "stream",
     "text": [
      "['u', 'm', 'a', ' ', 'F', 'R', 'A', 'S', 'E']\n"
     ]
    }
   ],
   "source": [
    "listafrase = list(frase)\n",
    "print(listafrase)"
   ]
  },
  {
   "cell_type": "code",
   "execution_count": 5,
   "id": "afc27987",
   "metadata": {},
   "outputs": [
    {
     "name": "stdout",
     "output_type": "stream",
     "text": [
      "u-pym-pya-py -pyF-pyR-pyA-pyS-pyE\n"
     ]
    }
   ],
   "source": [
    "stringfinal = '-py'.join(listafrase)\n",
    "print(stringfinal)"
   ]
  },
  {
   "cell_type": "code",
   "execution_count": 12,
   "id": "d396456e",
   "metadata": {},
   "outputs": [
    {
     "name": "stdout",
     "output_type": "stream",
     "text": [
      "Uma frase\n",
      "Uma Frase\n",
      "UMA FRASE\n",
      "uma frase\n",
      "uma CRASE\n"
     ]
    }
   ],
   "source": [
    "s1 = frase.capitalize()\n",
    "s2 = frase.title()\n",
    "s3 = frase.upper()\n",
    "s4 = frase.lower()\n",
    "s5 = frase.replace('F', 'C')\n",
    "print(s1)\n",
    "print(s2)\n",
    "print(s3)\n",
    "print(s4)\n",
    "print(s5)"
   ]
  },
  {
   "cell_type": "code",
   "execution_count": 13,
   "id": "1212c7ee",
   "metadata": {},
   "outputs": [
    {
     "name": "stdout",
     "output_type": "stream",
     "text": [
      "String original: uma FRASE\n"
     ]
    }
   ],
   "source": [
    "print('String original:', frase)"
   ]
  },
  {
   "cell_type": "code",
   "execution_count": 16,
   "id": "9b632c9d",
   "metadata": {},
   "outputs": [
    {
     "name": "stdout",
     "output_type": "stream",
     "text": [
      "['uma', 'FRASE']\n"
     ]
    }
   ],
   "source": [
    "quebra = frase.split(' ')\n",
    "print(quebra1)"
   ]
  },
  {
   "cell_type": "code",
   "execution_count": 17,
   "id": "63b670da",
   "metadata": {},
   "outputs": [
    {
     "name": "stdout",
     "output_type": "stream",
     "text": [
      "['UM', ' FR', 'SE']\n"
     ]
    }
   ],
   "source": [
    "quebra2 = s3.split('A')\n",
    "print(quebra2)"
   ]
  },
  {
   "cell_type": "code",
   "execution_count": 18,
   "id": "7850468d",
   "metadata": {},
   "outputs": [
    {
     "name": "stdout",
     "output_type": "stream",
     "text": [
      "uma\n",
      "FRASE\n"
     ]
    }
   ],
   "source": [
    "frase = 'uma\\nFRASE'\n",
    "print(frase)"
   ]
  },
  {
   "cell_type": "code",
   "execution_count": 19,
   "id": "1b5372db",
   "metadata": {},
   "outputs": [
    {
     "name": "stdout",
     "output_type": "stream",
     "text": [
      "uma\\FRASE\n"
     ]
    }
   ],
   "source": [
    "frase =  'uma\\\\FRASE'\n",
    "print(frase)"
   ]
  }
 ],
 "metadata": {
  "kernelspec": {
   "display_name": "Python 3 (ipykernel)",
   "language": "python",
   "name": "python3"
  },
  "language_info": {
   "codemirror_mode": {
    "name": "ipython",
    "version": 3
   },
   "file_extension": ".py",
   "mimetype": "text/x-python",
   "name": "python",
   "nbconvert_exporter": "python",
   "pygments_lexer": "ipython3",
   "version": "3.8.10"
  }
 },
 "nbformat": 4,
 "nbformat_minor": 5
}
