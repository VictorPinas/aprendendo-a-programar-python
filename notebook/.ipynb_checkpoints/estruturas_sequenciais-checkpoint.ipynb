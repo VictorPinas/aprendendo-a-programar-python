{
 "cells": [
  {
   "cell_type": "code",
   "execution_count": 1,
   "id": "254e2ac7",
   "metadata": {},
   "outputs": [
    {
     "name": "stdout",
     "output_type": "stream",
     "text": [
      "Por favor, informe a sua idade:30\n",
      "30 <class 'str'>\n"
     ]
    }
   ],
   "source": [
    "idade = input(\"Por favor, informe a sua idade:\")\n",
    "print(idade, type(idade))"
   ]
  },
  {
   "cell_type": "code",
   "execution_count": 2,
   "id": "77d54805",
   "metadata": {},
   "outputs": [
    {
     "name": "stdout",
     "output_type": "stream",
     "text": [
      "Digite o seu salário mensal: 200\n",
      "Digite o seu gasto mensal: 50\n",
      "O que você economizou durante um ano é:  1800.0\n"
     ]
    }
   ],
   "source": [
    "salario_mensal = input('Digite o seu salário mensal: ')\n",
    "salario_mensal = float(salario_mensal)\n",
    "\n",
    "gasto_mensal = input('Digite o seu gasto mensal: ')\n",
    "gasto_mensal = float(gasto_mensal)\n",
    "\n",
    "salario_total = salario_mensal * 12\n",
    "gasto_total = gasto_mensal * 12\n",
    "\n",
    "montante_total = salario_total - gasto_total\n",
    "print('O que você economizou durante um ano é: ', montante_total)"
   ]
  },
  {
   "cell_type": "code",
   "execution_count": 3,
   "id": "2629e9ed",
   "metadata": {},
   "outputs": [],
   "source": [
    "y = 3.14\n",
    "escola = 'Let\\'s Code'"
   ]
  },
  {
   "cell_type": "code",
   "execution_count": 5,
   "id": "06b06070",
   "metadata": {},
   "outputs": [
    {
     "name": "stdout",
     "output_type": "stream",
     "text": [
      "Pi vale  3.14\n",
      "Eu estudo na escola  Let's Code\n"
     ]
    }
   ],
   "source": [
    "print('Pi vale ',y)\n",
    "print('Eu estudo na escola ',escola)"
   ]
  },
  {
   "cell_type": "code",
   "execution_count": 6,
   "id": "eb7baa01",
   "metadata": {},
   "outputs": [
    {
     "name": "stdout",
     "output_type": "stream",
     "text": [
      "4.140000000000001 9.8596\n"
     ]
    }
   ],
   "source": [
    "print(y+1, y**2)"
   ]
  },
  {
   "cell_type": "code",
   "execution_count": 7,
   "id": "6c5941e7",
   "metadata": {},
   "outputs": [
    {
     "name": "stdout",
     "output_type": "stream",
     "text": [
      "Digite seu nome: Victor\n",
      "Digite o seu peso: 61.5\n",
      "Digite a sua idade: 31\n",
      "Victor pesa 61.5 kg e tem 31 anos de idade.\n"
     ]
    }
   ],
   "source": [
    "nome = input('Digite seu nome: ')\n",
    "peso = float(input('Digite o seu peso: '))\n",
    "idade = int(input('Digite a sua idade: '))\n",
    "print(nome, 'pesa', peso, 'kg e tem', idade, 'anos de idade.')"
   ]
  }
 ],
 "metadata": {
  "kernelspec": {
   "display_name": "Python 3 (ipykernel)",
   "language": "python",
   "name": "python3"
  },
  "language_info": {
   "codemirror_mode": {
    "name": "ipython",
    "version": 3
   },
   "file_extension": ".py",
   "mimetype": "text/x-python",
   "name": "python",
   "nbconvert_exporter": "python",
   "pygments_lexer": "ipython3",
   "version": "3.8.10"
  }
 },
 "nbformat": 4,
 "nbformat_minor": 5
}
